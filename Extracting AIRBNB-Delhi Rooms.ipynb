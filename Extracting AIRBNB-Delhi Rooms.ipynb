{
 "cells": [
  {
   "cell_type": "markdown",
   "id": "abfd2287",
   "metadata": {
    "scrolled": true
   },
   "source": [
    "In this project, we embark on a journey to explore the diverse and vibrant accommodations available on Airbnb in the heart of India's capital city. The goal of this web scraping project is to collect valuable data about the rooms listed on Airbnb in Delhi. By leveraging the power of web scraping, we will extract essential information such as room Name/Locations, descriptions, pricing, and guest reviews."
   ]
  },
  {
   "cell_type": "code",
   "execution_count": 26,
   "id": "523a4c9f",
   "metadata": {},
   "outputs": [],
   "source": [
    "# we will start of by importing the essential libraries required in this project.\n",
    "\n",
    "import requests\n",
    "from bs4 import BeautifulSoup\n",
    "import pandas as pd\n",
    "\n",
    "# Creating Lists to store the data that is to be scraped from Airbnb website.\n",
    "\n",
    "p_names=[]\n",
    "p_prices=[]\n",
    "p_desc=[]\n",
    "p_reviews=[]"
   ]
  },
  {
   "cell_type": "code",
   "execution_count": 27,
   "id": "18981312",
   "metadata": {},
   "outputs": [],
   "source": [
    "#Here we have the http address of the website that we have obtained, and we will try and get the response from the website.\n",
    "\n",
    "url=\"https://www.airbnb.com/s/New-Delhi--India/homes?adults=1&place_id=ChIJLbZ-NFv9DDkRzk0gTkm3wlI&refinement_paths%5B%5D=%2Fhomes\"\n",
    "r=requests.get(url)"
   ]
  },
  {
   "cell_type": "code",
   "execution_count": 28,
   "id": "5c9b5a7d",
   "metadata": {},
   "outputs": [
    {
     "data": {
      "text/plain": [
       "<Response [200]>"
      ]
     },
     "execution_count": 28,
     "metadata": {},
     "output_type": "execute_result"
    }
   ],
   "source": [
    "# Response is positive as we have been returned with 200 response status code which means it is a successful response.\n",
    "r"
   ]
  },
  {
   "cell_type": "code",
   "execution_count": 29,
   "id": "da4175c6",
   "metadata": {},
   "outputs": [],
   "source": [
    "# Here we create a soup object to get the web pages html text to parse.\n",
    "soup=BeautifulSoup(r.text, \"html.parser\")\n",
    "#print(soup)"
   ]
  },
  {
   "cell_type": "code",
   "execution_count": 30,
   "id": "b2303960",
   "metadata": {
    "scrolled": false
   },
   "outputs": [
    {
     "name": "stdout",
     "output_type": "stream",
     "text": [
      "https://www.airbnb.com//s/New-Delhi--India/homes?adults=1&place_id=ChIJLbZ-NFv9DDkRzk0gTkm3wlI&refinement_paths%5B%5D=%2Fhomes&tab_id=home_tab&query=New%20Delhi%2C%20India&flexible_trip_lengths%5B%5D=one_week&monthly_start_date=2023-07-01&monthly_length=3&price_filter_input_type=0&price_filter_num_nights=5&channel=EXPLORE&federated_search_session_id=d6477113-c8c8-4575-92ae-0ac1cac909cf&search_type=unknown&pagination_search=true&cursor=eyJzZWN0aW9uX29mZnNldCI6MywiaXRlbXNfb2Zmc2V0IjoxOCwidmVyc2lvbiI6MX0%3D\n"
     ]
    }
   ],
   "source": [
    "# Using soup.find Method we can find the link to the next page given on the next button on the website.\n",
    "\n",
    "new_page=soup.find(\"a\" , class_=\"l1ovpqvx c1ytbx3a dir dir-ltr\").get(\"href\")\n",
    "#print(new_page)\n",
    "\n",
    "# Concatinate it with the https request to form a full link\n",
    "\n",
    "complete_newpage=\"https://www.airbnb.com/\"+ new_page\n",
    "print(complete_newpage)"
   ]
  },
  {
   "cell_type": "code",
   "execution_count": 31,
   "id": "94ef004e",
   "metadata": {
    "scrolled": true
   },
   "outputs": [
    {
     "name": "stdout",
     "output_type": "stream",
     "text": [
      "https://www.airbnb.com//s/New-Delhi--India/homes?adults=1&place_id=ChIJLbZ-NFv9DDkRzk0gTkm3wlI&refinement_paths%5B%5D=%2Fhomes&tab_id=home_tab&query=New%20Delhi%2C%20India&flexible_trip_lengths%5B%5D=one_week&monthly_start_date=2023-07-01&monthly_length=3&price_filter_input_type=0&price_filter_num_nights=5&channel=EXPLORE&federated_search_session_id=d6477113-c8c8-4575-92ae-0ac1cac909cf&search_type=unknown&pagination_search=true&cursor=eyJzZWN0aW9uX29mZnNldCI6MywiaXRlbXNfb2Zmc2V0IjoxOCwidmVyc2lvbiI6MX0%3D\n",
      "18\n",
      "18\n",
      "18\n",
      "18\n",
      "https://www.airbnb.com//s/New-Delhi--India/homes?adults=1&place_id=ChIJLbZ-NFv9DDkRzk0gTkm3wlI&refinement_paths%5B%5D=%2Fhomes&tab_id=home_tab&query=New%20Delhi%2C%20India&flexible_trip_lengths%5B%5D=one_week&monthly_start_date=2023-07-01&monthly_length=3&price_filter_input_type=0&price_filter_num_nights=5&channel=EXPLORE&federated_search_session_id=d6477113-c8c8-4575-92ae-0ac1cac909cf&search_type=unknown&pagination_search=true&cursor=eyJzZWN0aW9uX29mZnNldCI6MywiaXRlbXNfb2Zmc2V0IjoxOCwidmVyc2lvbiI6MX0%3D\n",
      "36\n",
      "36\n",
      "36\n",
      "36\n",
      "https://www.airbnb.com//s/New-Delhi--India/homes?adults=1&place_id=ChIJLbZ-NFv9DDkRzk0gTkm3wlI&refinement_paths%5B%5D=%2Fhomes&tab_id=home_tab&query=New%20Delhi%2C%20India&flexible_trip_lengths%5B%5D=one_week&monthly_start_date=2023-07-01&monthly_length=3&price_filter_input_type=0&price_filter_num_nights=5&channel=EXPLORE&federated_search_session_id=d6477113-c8c8-4575-92ae-0ac1cac909cf&search_type=unknown&pagination_search=true&cursor=eyJzZWN0aW9uX29mZnNldCI6MywiaXRlbXNfb2Zmc2V0IjoxOCwidmVyc2lvbiI6MX0%3D\n",
      "54\n",
      "54\n",
      "54\n",
      "54\n",
      "https://www.airbnb.com//s/New-Delhi--India/homes?adults=1&place_id=ChIJLbZ-NFv9DDkRzk0gTkm3wlI&refinement_paths%5B%5D=%2Fhomes&tab_id=home_tab&query=New%20Delhi%2C%20India&flexible_trip_lengths%5B%5D=one_week&monthly_start_date=2023-07-01&monthly_length=3&price_filter_input_type=0&price_filter_num_nights=5&channel=EXPLORE&federated_search_session_id=d6477113-c8c8-4575-92ae-0ac1cac909cf&search_type=unknown&pagination_search=true&cursor=eyJzZWN0aW9uX29mZnNldCI6MywiaXRlbXNfb2Zmc2V0IjoxOCwidmVyc2lvbiI6MX0%3D\n",
      "72\n",
      "72\n",
      "72\n",
      "72\n",
      "https://www.airbnb.com//s/New-Delhi--India/homes?adults=1&place_id=ChIJLbZ-NFv9DDkRzk0gTkm3wlI&refinement_paths%5B%5D=%2Fhomes&tab_id=home_tab&query=New%20Delhi%2C%20India&flexible_trip_lengths%5B%5D=one_week&monthly_start_date=2023-07-01&monthly_length=3&price_filter_input_type=0&price_filter_num_nights=5&channel=EXPLORE&federated_search_session_id=d6477113-c8c8-4575-92ae-0ac1cac909cf&search_type=unknown&pagination_search=true&cursor=eyJzZWN0aW9uX29mZnNldCI6MywiaXRlbXNfb2Zmc2V0IjoxOCwidmVyc2lvbiI6MX0%3D\n",
      "90\n",
      "90\n",
      "90\n",
      "90\n",
      "https://www.airbnb.com//s/New-Delhi--India/homes?adults=1&place_id=ChIJLbZ-NFv9DDkRzk0gTkm3wlI&refinement_paths%5B%5D=%2Fhomes&tab_id=home_tab&query=New%20Delhi%2C%20India&flexible_trip_lengths%5B%5D=one_week&monthly_start_date=2023-07-01&monthly_length=3&price_filter_input_type=0&price_filter_num_nights=5&channel=EXPLORE&federated_search_session_id=d6477113-c8c8-4575-92ae-0ac1cac909cf&search_type=unknown&pagination_search=true&cursor=eyJzZWN0aW9uX29mZnNldCI6MywiaXRlbXNfb2Zmc2V0IjoxOCwidmVyc2lvbiI6MX0%3D\n",
      "108\n",
      "108\n",
      "108\n",
      "108\n",
      "https://www.airbnb.com//s/New-Delhi--India/homes?adults=1&place_id=ChIJLbZ-NFv9DDkRzk0gTkm3wlI&refinement_paths%5B%5D=%2Fhomes&tab_id=home_tab&query=New%20Delhi%2C%20India&flexible_trip_lengths%5B%5D=one_week&monthly_start_date=2023-07-01&monthly_length=3&price_filter_input_type=0&price_filter_num_nights=5&channel=EXPLORE&federated_search_session_id=d6477113-c8c8-4575-92ae-0ac1cac909cf&search_type=unknown&pagination_search=true&cursor=eyJzZWN0aW9uX29mZnNldCI6MywiaXRlbXNfb2Zmc2V0IjoxOCwidmVyc2lvbiI6MX0%3D\n",
      "126\n",
      "126\n",
      "126\n",
      "126\n",
      "https://www.airbnb.com//s/New-Delhi--India/homes?adults=1&place_id=ChIJLbZ-NFv9DDkRzk0gTkm3wlI&refinement_paths%5B%5D=%2Fhomes&tab_id=home_tab&query=New%20Delhi%2C%20India&flexible_trip_lengths%5B%5D=one_week&monthly_start_date=2023-07-01&monthly_length=3&price_filter_input_type=0&price_filter_num_nights=5&channel=EXPLORE&federated_search_session_id=d6477113-c8c8-4575-92ae-0ac1cac909cf&search_type=unknown&pagination_search=true&cursor=eyJzZWN0aW9uX29mZnNldCI6MywiaXRlbXNfb2Zmc2V0IjoxOCwidmVyc2lvbiI6MX0%3D\n",
      "144\n",
      "144\n",
      "144\n",
      "144\n",
      "https://www.airbnb.com//s/New-Delhi--India/homes?adults=1&place_id=ChIJLbZ-NFv9DDkRzk0gTkm3wlI&refinement_paths%5B%5D=%2Fhomes&tab_id=home_tab&query=New%20Delhi%2C%20India&flexible_trip_lengths%5B%5D=one_week&monthly_start_date=2023-07-01&monthly_length=3&price_filter_input_type=0&price_filter_num_nights=5&channel=EXPLORE&federated_search_session_id=d6477113-c8c8-4575-92ae-0ac1cac909cf&search_type=unknown&pagination_search=true&cursor=eyJzZWN0aW9uX29mZnNldCI6MywiaXRlbXNfb2Zmc2V0IjoxOCwidmVyc2lvbiI6MX0%3D\n",
      "162\n",
      "162\n",
      "162\n",
      "162\n",
      "https://www.airbnb.com//s/New-Delhi--India/homes?adults=1&place_id=ChIJLbZ-NFv9DDkRzk0gTkm3wlI&refinement_paths%5B%5D=%2Fhomes&tab_id=home_tab&query=New%20Delhi%2C%20India&flexible_trip_lengths%5B%5D=one_week&monthly_start_date=2023-07-01&monthly_length=3&price_filter_input_type=0&price_filter_num_nights=5&channel=EXPLORE&federated_search_session_id=d6477113-c8c8-4575-92ae-0ac1cac909cf&search_type=unknown&pagination_search=true&cursor=eyJzZWN0aW9uX29mZnNldCI6MywiaXRlbXNfb2Zmc2V0IjoxOCwidmVyc2lvbiI6MX0%3D\n",
      "180\n",
      "180\n",
      "180\n",
      "180\n",
      "https://www.airbnb.com//s/New-Delhi--India/homes?adults=1&place_id=ChIJLbZ-NFv9DDkRzk0gTkm3wlI&refinement_paths%5B%5D=%2Fhomes&tab_id=home_tab&query=New%20Delhi%2C%20India&flexible_trip_lengths%5B%5D=one_week&monthly_start_date=2023-07-01&monthly_length=3&price_filter_input_type=0&price_filter_num_nights=5&channel=EXPLORE&federated_search_session_id=d6477113-c8c8-4575-92ae-0ac1cac909cf&search_type=unknown&pagination_search=true&cursor=eyJzZWN0aW9uX29mZnNldCI6MywiaXRlbXNfb2Zmc2V0IjoxOCwidmVyc2lvbiI6MX0%3D\n",
      "198\n",
      "198\n",
      "198\n",
      "198\n",
      "https://www.airbnb.com//s/New-Delhi--India/homes?adults=1&place_id=ChIJLbZ-NFv9DDkRzk0gTkm3wlI&refinement_paths%5B%5D=%2Fhomes&tab_id=home_tab&query=New%20Delhi%2C%20India&flexible_trip_lengths%5B%5D=one_week&monthly_start_date=2023-07-01&monthly_length=3&price_filter_input_type=0&price_filter_num_nights=5&channel=EXPLORE&federated_search_session_id=d6477113-c8c8-4575-92ae-0ac1cac909cf&search_type=unknown&pagination_search=true&cursor=eyJzZWN0aW9uX29mZnNldCI6MywiaXRlbXNfb2Zmc2V0IjoxOCwidmVyc2lvbiI6MX0%3D\n",
      "216\n",
      "216\n",
      "216\n",
      "216\n",
      "https://www.airbnb.com//s/New-Delhi--India/homes?adults=1&place_id=ChIJLbZ-NFv9DDkRzk0gTkm3wlI&refinement_paths%5B%5D=%2Fhomes&tab_id=home_tab&query=New%20Delhi%2C%20India&flexible_trip_lengths%5B%5D=one_week&monthly_start_date=2023-07-01&monthly_length=3&price_filter_input_type=0&price_filter_num_nights=5&channel=EXPLORE&federated_search_session_id=d6477113-c8c8-4575-92ae-0ac1cac909cf&search_type=unknown&pagination_search=true&cursor=eyJzZWN0aW9uX29mZnNldCI6MywiaXRlbXNfb2Zmc2V0IjoxOCwidmVyc2lvbiI6MX0%3D\n",
      "234\n",
      "234\n",
      "234\n",
      "234\n",
      "https://www.airbnb.com//s/New-Delhi--India/homes?adults=1&place_id=ChIJLbZ-NFv9DDkRzk0gTkm3wlI&refinement_paths%5B%5D=%2Fhomes&tab_id=home_tab&query=New%20Delhi%2C%20India&flexible_trip_lengths%5B%5D=one_week&monthly_start_date=2023-07-01&monthly_length=3&price_filter_input_type=0&price_filter_num_nights=5&channel=EXPLORE&federated_search_session_id=d6477113-c8c8-4575-92ae-0ac1cac909cf&search_type=unknown&pagination_search=true&cursor=eyJzZWN0aW9uX29mZnNldCI6MywiaXRlbXNfb2Zmc2V0IjoxOCwidmVyc2lvbiI6MX0%3D\n",
      "252\n",
      "252\n",
      "252\n",
      "252\n",
      "https://www.airbnb.com//s/New-Delhi--India/homes?adults=1&place_id=ChIJLbZ-NFv9DDkRzk0gTkm3wlI&refinement_paths%5B%5D=%2Fhomes&tab_id=home_tab&query=New%20Delhi%2C%20India&flexible_trip_lengths%5B%5D=one_week&monthly_start_date=2023-07-01&monthly_length=3&price_filter_input_type=0&price_filter_num_nights=5&channel=EXPLORE&federated_search_session_id=d6477113-c8c8-4575-92ae-0ac1cac909cf&search_type=unknown&pagination_search=true&cursor=eyJzZWN0aW9uX29mZnNldCI6MywiaXRlbXNfb2Zmc2V0IjoxOCwidmVyc2lvbiI6MX0%3D\n",
      "270\n",
      "270\n",
      "270\n",
      "270\n",
      "https://www.airbnb.com//s/New-Delhi--India/homes?adults=1&place_id=ChIJLbZ-NFv9DDkRzk0gTkm3wlI&refinement_paths%5B%5D=%2Fhomes&tab_id=home_tab&query=New%20Delhi%2C%20India&flexible_trip_lengths%5B%5D=one_week&monthly_start_date=2023-07-01&monthly_length=3&price_filter_input_type=0&price_filter_num_nights=5&channel=EXPLORE&federated_search_session_id=d6477113-c8c8-4575-92ae-0ac1cac909cf&search_type=unknown&pagination_search=true&cursor=eyJzZWN0aW9uX29mZnNldCI6MywiaXRlbXNfb2Zmc2V0IjoxOCwidmVyc2lvbiI6MX0%3D\n"
     ]
    },
    {
     "name": "stdout",
     "output_type": "stream",
     "text": [
      "288\n",
      "288\n",
      "288\n",
      "288\n",
      "               Accomodation name Accomodation Prices  \\\n",
      "0    Apartment in Defence Colony                $32    \n",
      "1          Home in Subhash Nagar                $29    \n",
      "2         Apartment in Hauz Khas                $33    \n",
      "3              Condo in Jangpura                $96    \n",
      "4         Home in Defence Colony                $28    \n",
      "..                           ...                 ...   \n",
      "283            Room in New Delhi                $31    \n",
      "284            Room in New Delhi                $40    \n",
      "285           Condo in New Delhi                $33    \n",
      "286       Apartment in New Delhi                $49    \n",
      "287       Apartment in New Delhi                $55    \n",
      "\n",
      "                               Accomodation Desciption Accomodation Reviews  \n",
      "0    Stylish Apt. w/ Lift ,WiFi & King Bed★FREE PAR...            4.95 (56)  \n",
      "1        Full service apartment. A home away from home            4.92 (74)  \n",
      "2    Boutique Modern Studio| Private balcony & kitchen           4.17 (215)  \n",
      "3    3BR Soulful Bohemian space,minutes from India ...            4.96 (23)  \n",
      "4        A 1BHK Cosy (& Sanitized) Home with a Terrace            4.8 (126)  \n",
      "..                                                 ...                  ...  \n",
      "283            F18 India bnb - Modern bedroom - Room 3            4.78 (45)  \n",
      "284         South Delhi Home with Beautiful Terrace: 2           4.82 (114)  \n",
      "285              Bliss -The studio apartment with lift             4.6 (15)  \n",
      "286            Iddha - Charming 1BHK Centrally Located            4.84 (49)  \n",
      "287  2-Bedroom floor in South Delhi , GK 1 - 2nd floor            4.33 (99)  \n",
      "\n",
      "[288 rows x 4 columns]\n"
     ]
    }
   ],
   "source": [
    "# Here we are going to Scrape the data on the rooms available at airbnb delhi\n",
    "\n",
    "\n",
    "counter=0\n",
    "\n",
    "# we have to put everything in the while loop to Scrape the data from all the pages.\n",
    "# starting with the condition to break out of loop if the required number of webpages are Scrpaed.\n",
    "\n",
    "while True:\n",
    "    \n",
    "    if (counter>15):\n",
    "        break\n",
    "        \n",
    "        \n",
    "    counter+=1\n",
    "    \n",
    "    \n",
    "    #Soup.find to get the link to the next page \n",
    "    \n",
    "    new_page=soup.find(\"a\", class_=\"l1ovpqvx c1ytbx3a dir dir-ltr\").get(\"href\")\n",
    "    #print(new_page)\n",
    "    \n",
    "    \n",
    "    print(complete_newpage)\n",
    "    \n",
    "    # here we have updated the base url with the new_page url and get response from this new page.\n",
    "    url=complete_newpage\n",
    "    r=requests.get(url)\n",
    "    \n",
    "    # A new soup object is created \n",
    "    \n",
    "    soup=BeautifulSoup(r.text, \"lxml\")\n",
    "    \n",
    "    # find_all method to get the names of the rooms provided the TAG and the CLASS\n",
    "    # next will we will iterate through the names, convert to text and then append it to the p_names list\n",
    "    \n",
    "    names=soup.find_all(\"div\", class_=\"t1jojoys dir dir-ltr\")\n",
    "    for i in names:\n",
    "        n=i.text\n",
    "        p_names.append(n)\n",
    "    #print(p_names)\n",
    "    print(len(p_names))\n",
    "    \n",
    "    #Similar Goes for the prices, but here the prices will append to the p_prices list.\n",
    "    \n",
    "    prices=soup.find_all(\"span\",class_=[\"_tyxjp1\", \"_1y74zjx\"])\n",
    "    for i in prices:\n",
    "        n=i.text\n",
    "        p_prices.append(n)\n",
    "    #print(p_prices)\n",
    "    print(len(p_prices))\n",
    "    \n",
    "    #Similar Goes for the descriptions, but here the descriptions will append to the p_desc list.\n",
    "    \n",
    "    \n",
    "    description=soup.find_all(\"span\",class_=[\" dir dir-ltr\", \"t6mzqp7 dir dir-ltr\"])\n",
    "    for i in description:\n",
    "        n=i.text\n",
    "        p_desc.append(n)\n",
    "    #print(p_desc)\n",
    "    print(len(p_desc))\n",
    "    \n",
    "    \n",
    "    #Similar Goes for the Reviews, but here the reviews will append to the p_reviews list.\n",
    "    \n",
    "    reviews=soup.find_all(\"span\",class_=\"r1dxllyb dir dir-ltr\")\n",
    "    #print(reviews)\n",
    "    \n",
    "    for i in reviews:\n",
    "        n=i.text\n",
    "        p_reviews.append(n)\n",
    "    \n",
    "    #print(p_reviews)\n",
    "    print(len(p_reviews))\n",
    "    \n",
    "        \n",
    "# Here we create a dataset using the DataFrame to save all the contents we have Scraped in a nice order to be able to access easily. \n",
    "\n",
    "df=pd.DataFrame({\"Accomodation name\": p_names, \"Accomodation Prices\": p_prices, \"Accomodation Desciption\": p_desc, \"Accomodation Reviews\": p_reviews})\n",
    "print(df)     \n",
    "\n",
    "#At last we will write the data into a csv file using the pandas DataFrame Module.\n",
    "df.to_csv(\"Airbnb Data.csv\")\n"
   ]
  },
  {
   "cell_type": "code",
   "execution_count": null,
   "id": "09c9b173",
   "metadata": {},
   "outputs": [],
   "source": []
  },
  {
   "cell_type": "code",
   "execution_count": null,
   "id": "471ae059",
   "metadata": {},
   "outputs": [],
   "source": []
  }
 ],
 "metadata": {
  "kernelspec": {
   "display_name": "Python 3 (ipykernel)",
   "language": "python",
   "name": "python3"
  },
  "language_info": {
   "codemirror_mode": {
    "name": "ipython",
    "version": 3
   },
   "file_extension": ".py",
   "mimetype": "text/x-python",
   "name": "python",
   "nbconvert_exporter": "python",
   "pygments_lexer": "ipython3",
   "version": "3.10.9"
  }
 },
 "nbformat": 4,
 "nbformat_minor": 5
}
